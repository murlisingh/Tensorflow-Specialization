{
  "nbformat": 4,
  "nbformat_minor": 0,
  "metadata": {
    "accelerator": "GPU",
    "colab": {
      "name": "Course 3 - Week 3 - Lesson 2.ipynb",
      "provenance": [],
      "collapsed_sections": []
    },
    "kernelspec": {
      "display_name": "Python 3",
      "language": "python",
      "name": "python3"
    },
    "language_info": {
      "codemirror_mode": {
        "name": "ipython",
        "version": 3
      },
      "file_extension": ".py",
      "mimetype": "text/x-python",
      "name": "python",
      "nbconvert_exporter": "python",
      "pygments_lexer": "ipython3",
      "version": "3.7.6"
    }
  },
  "cells": [
    {
      "cell_type": "code",
      "metadata": {
        "id": "zX4Kg8DUTKWO"
      },
      "source": [
        "#@title Licensed under the Apache License, Version 2.0 (the \"License\");\n",
        "# you may not use this file except in compliance with the License.\n",
        "# You may obtain a copy of the License at\n",
        "#\n",
        "# https://www.apache.org/licenses/LICENSE-2.0\n",
        "#\n",
        "# Unless required by applicable law or agreed to in writing, software\n",
        "# distributed under the License is distributed on an \"AS IS\" BASIS,\n",
        "# WITHOUT WARRANTIES OR CONDITIONS OF ANY KIND, either express or implied.\n",
        "# See the License for the specific language governing permissions and\n",
        "# limitations under the License."
      ],
      "execution_count": null,
      "outputs": []
    },
    {
      "cell_type": "markdown",
      "metadata": {
        "id": "HDPHL-UJnPcR"
      },
      "source": [
        "<a href=\"https://colab.research.google.com/github/lmoroney/dlaicourse/blob/master/TensorFlow%20In%20Practice/Course%203%20-%20NLP/Course%203%20-%20Week%203%20-%20Lesson%202.ipynb\" target=\"_parent\"><img src=\"https://colab.research.google.com/assets/colab-badge.svg\" alt=\"Open In Colab\"/></a>"
      ]
    },
    {
      "cell_type": "code",
      "metadata": {
        "colab": {
          "base_uri": "https://localhost:8080/"
        },
        "id": "jGwXGIXvFhXW",
        "outputId": "a9f54f49-06f3-4dec-90ee-6d6b31b30f49"
      },
      "source": [
        "import numpy as np\n",
        "\n",
        "import json\n",
        "import tensorflow as tf\n",
        "\n",
        "from tensorflow.keras.preprocessing.text import Tokenizer\n",
        "from tensorflow.keras.preprocessing.sequence import pad_sequences\n",
        "\n",
        "!wget --no-check-certificate \\\n",
        "    https://storage.googleapis.com/laurencemoroney-blog.appspot.com/sarcasm.json \\\n",
        "    -O /tmp/sarcasm.json\n",
        "\n",
        "vocab_size = 1000\n",
        "embedding_dim = 16\n",
        "max_length = 120\n",
        "trunc_type='post'\n",
        "padding_type='post'\n",
        "oov_tok = \"<OOV>\"\n",
        "training_size = 20000\n",
        "\n",
        "\n",
        "with open(\"/tmp/sarcasm.json\", 'r') as f:\n",
        "    datastore = json.load(f)\n",
        "\n",
        "\n",
        "sentences = []\n",
        "labels = []\n",
        "urls = []\n",
        "for item in datastore:\n",
        "    sentences.append(item['headline'])\n",
        "    labels.append(item['is_sarcastic'])\n",
        "\n",
        "training_sentences = sentences[0:training_size]\n",
        "testing_sentences = sentences[training_size:]\n",
        "training_labels = labels[0:training_size]\n",
        "testing_labels = labels[training_size:]\n",
        "\n",
        "tokenizer = Tokenizer(num_words=vocab_size, oov_token=oov_tok)\n",
        "tokenizer.fit_on_texts(training_sentences)\n",
        "\n",
        "word_index = tokenizer.word_index\n",
        "\n",
        "training_sequences = tokenizer.texts_to_sequences(training_sentences)\n",
        "training_padded = pad_sequences(training_sequences, maxlen=max_length, padding=padding_type, truncating=trunc_type)\n",
        "\n",
        "testing_sequences = tokenizer.texts_to_sequences(testing_sentences)\n",
        "testing_padded = pad_sequences(testing_sequences, maxlen=max_length, padding=padding_type, truncating=trunc_type)\n",
        "\n",
        "model = tf.keras.Sequential([\n",
        "    tf.keras.layers.Embedding(vocab_size, embedding_dim, input_length=max_length),\n",
        "    tf.keras.layers.Bidirectional(tf.keras.layers.LSTM(32)),\n",
        "    tf.keras.layers.Dense(24, activation='relu'),\n",
        "    tf.keras.layers.Dense(1, activation='sigmoid')\n",
        "])\n",
        "model.compile(loss='binary_crossentropy',optimizer='adam',metrics=['accuracy'])\n",
        "model.summary()\n",
        "\n",
        "num_epochs = 50\n",
        "training_padded = np.array(training_padded)\n",
        "training_labels = np.array(training_labels)\n",
        "testing_padded = np.array(testing_padded)\n",
        "testing_labels = np.array(testing_labels)\n",
        "history = model.fit(training_padded, training_labels, epochs=num_epochs, validation_data=(testing_padded, testing_labels), verbose=1)\n"
      ],
      "execution_count": 5,
      "outputs": [
        {
          "output_type": "stream",
          "text": [
            "--2021-04-02 03:52:12--  https://storage.googleapis.com/laurencemoroney-blog.appspot.com/sarcasm.json\n",
            "Resolving storage.googleapis.com (storage.googleapis.com)... 142.250.31.128, 142.250.65.80, 172.217.5.240, ...\n",
            "Connecting to storage.googleapis.com (storage.googleapis.com)|142.250.31.128|:443... connected.\n",
            "HTTP request sent, awaiting response... 200 OK\n",
            "Length: 5643545 (5.4M) [application/json]\n",
            "Saving to: ‘/tmp/sarcasm.json’\n",
            "\n",
            "\r/tmp/sarcasm.json     0%[                    ]       0  --.-KB/s               \r/tmp/sarcasm.json   100%[===================>]   5.38M  --.-KB/s    in 0.02s   \n",
            "\n",
            "2021-04-02 03:52:12 (234 MB/s) - ‘/tmp/sarcasm.json’ saved [5643545/5643545]\n",
            "\n",
            "Model: \"sequential_3\"\n",
            "_________________________________________________________________\n",
            "Layer (type)                 Output Shape              Param #   \n",
            "=================================================================\n",
            "embedding_3 (Embedding)      (None, 120, 16)           16000     \n",
            "_________________________________________________________________\n",
            "bidirectional_3 (Bidirection (None, 64)                12544     \n",
            "_________________________________________________________________\n",
            "dense_6 (Dense)              (None, 24)                1560      \n",
            "_________________________________________________________________\n",
            "dense_7 (Dense)              (None, 1)                 25        \n",
            "=================================================================\n",
            "Total params: 30,129\n",
            "Trainable params: 30,129\n",
            "Non-trainable params: 0\n",
            "_________________________________________________________________\n",
            "Epoch 1/50\n",
            "625/625 [==============================] - 10s 13ms/step - loss: 0.5482 - accuracy: 0.6954 - val_loss: 0.3792 - val_accuracy: 0.8264\n",
            "Epoch 2/50\n",
            "625/625 [==============================] - 7s 11ms/step - loss: 0.3494 - accuracy: 0.8370 - val_loss: 0.3724 - val_accuracy: 0.8283\n",
            "Epoch 3/50\n",
            "625/625 [==============================] - 7s 11ms/step - loss: 0.3183 - accuracy: 0.8563 - val_loss: 0.3756 - val_accuracy: 0.8293\n",
            "Epoch 4/50\n",
            "625/625 [==============================] - 7s 12ms/step - loss: 0.3019 - accuracy: 0.8650 - val_loss: 0.3699 - val_accuracy: 0.8334\n",
            "Epoch 5/50\n",
            "625/625 [==============================] - 7s 12ms/step - loss: 0.2970 - accuracy: 0.8706 - val_loss: 0.3726 - val_accuracy: 0.8357\n",
            "Epoch 6/50\n",
            "625/625 [==============================] - 7s 12ms/step - loss: 0.2830 - accuracy: 0.8765 - val_loss: 0.3821 - val_accuracy: 0.8295\n",
            "Epoch 7/50\n",
            "625/625 [==============================] - 7s 11ms/step - loss: 0.2728 - accuracy: 0.8798 - val_loss: 0.3943 - val_accuracy: 0.8301\n",
            "Epoch 8/50\n",
            "625/625 [==============================] - 7s 12ms/step - loss: 0.2669 - accuracy: 0.8839 - val_loss: 0.3799 - val_accuracy: 0.8326\n",
            "Epoch 9/50\n",
            "625/625 [==============================] - 7s 12ms/step - loss: 0.2644 - accuracy: 0.8865 - val_loss: 0.3900 - val_accuracy: 0.8280\n",
            "Epoch 10/50\n",
            "625/625 [==============================] - 7s 12ms/step - loss: 0.2567 - accuracy: 0.8885 - val_loss: 0.3985 - val_accuracy: 0.8267\n",
            "Epoch 11/50\n",
            "625/625 [==============================] - 7s 12ms/step - loss: 0.2396 - accuracy: 0.9005 - val_loss: 0.4082 - val_accuracy: 0.8272\n",
            "Epoch 12/50\n",
            "625/625 [==============================] - 7s 12ms/step - loss: 0.2344 - accuracy: 0.9019 - val_loss: 0.4327 - val_accuracy: 0.8204\n",
            "Epoch 13/50\n",
            "625/625 [==============================] - 7s 12ms/step - loss: 0.2254 - accuracy: 0.9047 - val_loss: 0.4179 - val_accuracy: 0.8262\n",
            "Epoch 14/50\n",
            "625/625 [==============================] - 7s 12ms/step - loss: 0.2190 - accuracy: 0.9103 - val_loss: 0.4278 - val_accuracy: 0.8262\n",
            "Epoch 15/50\n",
            "625/625 [==============================] - 7s 12ms/step - loss: 0.2197 - accuracy: 0.9086 - val_loss: 0.4540 - val_accuracy: 0.8235\n",
            "Epoch 16/50\n",
            "625/625 [==============================] - 7s 11ms/step - loss: 0.2094 - accuracy: 0.9103 - val_loss: 0.4556 - val_accuracy: 0.8222\n",
            "Epoch 17/50\n",
            "625/625 [==============================] - 7s 12ms/step - loss: 0.2006 - accuracy: 0.9168 - val_loss: 0.4829 - val_accuracy: 0.8204\n",
            "Epoch 18/50\n",
            "625/625 [==============================] - 7s 12ms/step - loss: 0.1969 - accuracy: 0.9209 - val_loss: 0.5086 - val_accuracy: 0.8193\n",
            "Epoch 19/50\n",
            "625/625 [==============================] - 7s 11ms/step - loss: 0.1905 - accuracy: 0.9215 - val_loss: 0.5406 - val_accuracy: 0.8176\n",
            "Epoch 20/50\n",
            "625/625 [==============================] - 7s 12ms/step - loss: 0.1784 - accuracy: 0.9257 - val_loss: 0.5530 - val_accuracy: 0.8173\n",
            "Epoch 21/50\n",
            "625/625 [==============================] - 7s 12ms/step - loss: 0.1762 - accuracy: 0.9284 - val_loss: 0.5719 - val_accuracy: 0.8131\n",
            "Epoch 22/50\n",
            "625/625 [==============================] - 7s 12ms/step - loss: 0.1696 - accuracy: 0.9294 - val_loss: 0.5822 - val_accuracy: 0.8125\n",
            "Epoch 23/50\n",
            "625/625 [==============================] - 7s 12ms/step - loss: 0.1616 - accuracy: 0.9340 - val_loss: 0.6792 - val_accuracy: 0.8085\n",
            "Epoch 24/50\n",
            "625/625 [==============================] - 7s 12ms/step - loss: 0.1613 - accuracy: 0.9340 - val_loss: 0.6895 - val_accuracy: 0.8065\n",
            "Epoch 25/50\n",
            "625/625 [==============================] - 7s 12ms/step - loss: 0.1493 - accuracy: 0.9410 - val_loss: 0.7010 - val_accuracy: 0.8089\n",
            "Epoch 26/50\n",
            "625/625 [==============================] - 7s 12ms/step - loss: 0.1475 - accuracy: 0.9414 - val_loss: 0.7118 - val_accuracy: 0.8106\n",
            "Epoch 27/50\n",
            "625/625 [==============================] - 7s 11ms/step - loss: 0.1445 - accuracy: 0.9417 - val_loss: 0.7780 - val_accuracy: 0.8092\n",
            "Epoch 28/50\n",
            "625/625 [==============================] - 7s 12ms/step - loss: 0.1365 - accuracy: 0.9426 - val_loss: 0.8101 - val_accuracy: 0.8018\n",
            "Epoch 29/50\n",
            "625/625 [==============================] - 7s 12ms/step - loss: 0.1289 - accuracy: 0.9475 - val_loss: 0.8417 - val_accuracy: 0.8038\n",
            "Epoch 30/50\n",
            "625/625 [==============================] - 7s 12ms/step - loss: 0.1202 - accuracy: 0.9508 - val_loss: 0.9058 - val_accuracy: 0.8077\n",
            "Epoch 31/50\n",
            "625/625 [==============================] - 7s 12ms/step - loss: 0.1231 - accuracy: 0.9493 - val_loss: 0.8478 - val_accuracy: 0.8094\n",
            "Epoch 32/50\n",
            "625/625 [==============================] - 7s 12ms/step - loss: 0.1201 - accuracy: 0.9501 - val_loss: 0.9550 - val_accuracy: 0.8013\n",
            "Epoch 33/50\n",
            "625/625 [==============================] - 7s 12ms/step - loss: 0.1076 - accuracy: 0.9562 - val_loss: 0.9548 - val_accuracy: 0.8040\n",
            "Epoch 34/50\n",
            "625/625 [==============================] - 7s 12ms/step - loss: 0.1078 - accuracy: 0.9538 - val_loss: 1.0405 - val_accuracy: 0.8003\n",
            "Epoch 35/50\n",
            "625/625 [==============================] - 7s 12ms/step - loss: 0.1104 - accuracy: 0.9544 - val_loss: 1.0753 - val_accuracy: 0.8006\n",
            "Epoch 36/50\n",
            "625/625 [==============================] - 7s 11ms/step - loss: 0.1030 - accuracy: 0.9570 - val_loss: 1.1381 - val_accuracy: 0.8035\n",
            "Epoch 37/50\n",
            "625/625 [==============================] - 7s 12ms/step - loss: 0.0979 - accuracy: 0.9597 - val_loss: 1.1839 - val_accuracy: 0.8006\n",
            "Epoch 38/50\n",
            "625/625 [==============================] - 7s 12ms/step - loss: 0.0952 - accuracy: 0.9614 - val_loss: 1.2259 - val_accuracy: 0.7974\n",
            "Epoch 39/50\n",
            "625/625 [==============================] - 7s 12ms/step - loss: 0.0964 - accuracy: 0.9591 - val_loss: 1.2542 - val_accuracy: 0.8006\n",
            "Epoch 40/50\n",
            "625/625 [==============================] - 7s 12ms/step - loss: 0.0929 - accuracy: 0.9591 - val_loss: 1.3128 - val_accuracy: 0.7982\n",
            "Epoch 41/50\n",
            "625/625 [==============================] - 8s 12ms/step - loss: 0.0838 - accuracy: 0.9642 - val_loss: 1.2810 - val_accuracy: 0.7983\n",
            "Epoch 42/50\n",
            "625/625 [==============================] - 7s 12ms/step - loss: 0.0836 - accuracy: 0.9636 - val_loss: 1.3953 - val_accuracy: 0.8024\n",
            "Epoch 43/50\n",
            "625/625 [==============================] - 7s 12ms/step - loss: 0.0799 - accuracy: 0.9638 - val_loss: 1.3584 - val_accuracy: 0.7943\n",
            "Epoch 44/50\n",
            "625/625 [==============================] - 8s 12ms/step - loss: 0.0778 - accuracy: 0.9654 - val_loss: 1.5158 - val_accuracy: 0.7921\n",
            "Epoch 45/50\n",
            "625/625 [==============================] - 8s 12ms/step - loss: 0.0779 - accuracy: 0.9666 - val_loss: 1.6246 - val_accuracy: 0.7998\n",
            "Epoch 46/50\n",
            "625/625 [==============================] - 8s 12ms/step - loss: 0.0728 - accuracy: 0.9680 - val_loss: 1.5875 - val_accuracy: 0.7885\n",
            "Epoch 47/50\n",
            "625/625 [==============================] - 8s 12ms/step - loss: 0.0698 - accuracy: 0.9711 - val_loss: 1.6463 - val_accuracy: 0.7952\n",
            "Epoch 48/50\n",
            "625/625 [==============================] - 8s 12ms/step - loss: 0.0653 - accuracy: 0.9727 - val_loss: 1.6527 - val_accuracy: 0.8022\n",
            "Epoch 49/50\n",
            "625/625 [==============================] - 8s 12ms/step - loss: 0.0628 - accuracy: 0.9727 - val_loss: 1.7113 - val_accuracy: 0.7927\n",
            "Epoch 50/50\n",
            "625/625 [==============================] - 8s 12ms/step - loss: 0.0721 - accuracy: 0.9701 - val_loss: 1.6806 - val_accuracy: 0.7976\n"
          ],
          "name": "stdout"
        }
      ]
    },
    {
      "cell_type": "code",
      "metadata": {
        "colab": {
          "base_uri": "https://localhost:8080/",
          "height": 541
        },
        "id": "g9DC6dmLF8DC",
        "outputId": "a7e7374d-39fb-4d24-a7e5-70f85348660f"
      },
      "source": [
        "import matplotlib.pyplot as plt\n",
        "\n",
        "\n",
        "def plot_graphs(history, string):\n",
        "  plt.plot(history.history[string])\n",
        "  plt.plot(history.history['val_'+string])\n",
        "  plt.xlabel(\"Epochs\")\n",
        "  plt.ylabel(string)\n",
        "  plt.legend([string, 'val_'+string])\n",
        "  plt.show()\n",
        "\n",
        "plot_graphs(history, 'accuracy')\n",
        "plot_graphs(history, 'loss')"
      ],
      "execution_count": 6,
      "outputs": [
        {
          "output_type": "display_data",
          "data": {
            "image/png": "[encoded data removed]",
            "text/plain": [
              "<Figure size 432x288 with 1 Axes>"
            ]
          },
          "metadata": {
            "tags": [],
            "needs_background": "light"
          }
        },
        {
          "output_type": "display_data",
          "data": {
            "image/png": "[encoded data removed]",
            "text/plain": [
              "<Figure size 432x288 with 1 Axes>"
            ]
          },
          "metadata": {
            "tags": [],
            "needs_background": "light"
          }
        }
      ]
    },
    {
      "cell_type": "code",
      "metadata": {
        "id": "7ZEZIUppGhdi"
      },
      "source": [
        "model.save(\"test.h5\")"
      ],
      "execution_count": 7,
      "outputs": []
    },
    {
      "cell_type": "code",
      "metadata": {
        "id": "EymnXnO8u48H"
      },
      "source": [
        ""
      ],
      "execution_count": null,
      "outputs": []
    }
  ]
}